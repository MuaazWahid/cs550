{
 "cells": [
  {
   "cell_type": "markdown",
   "metadata": {},
   "source": [
    "# No Boston house Dataset?"
   ]
  },
  {
   "cell_type": "markdown",
   "metadata": {},
   "source": [
    "\n",
    "# Early stopping of Gradient Boosting\n",
    "\n",
    "Gradient boosting is an ensembling technique where several weak learners\n",
    "(regression trees) are combined to yield a powerful single model, in an\n",
    "iterative fashion.\n",
    "\n",
    "Early stopping support in Gradient Boosting enables us to find the least number\n",
    "of iterations which is sufficient to build a model that generalizes well to\n",
    "unseen data.\n",
    "\n",
    "The concept of early stopping is simple. We specify a ``validation_fraction``\n",
    "which denotes the fraction of the whole dataset that will be kept aside from\n",
    "training to assess the validation loss of the model. The gradient boosting\n",
    "model is trained using the training set and evaluated using the validation set.\n",
    "When each additional stage of regression tree is added, the validation set is\n",
    "used to score the model.  This is continued until the scores of the model in\n",
    "the last ``n_iter_no_change`` stages do not improve by atleast `tol`. After\n",
    "that the model is considered to have converged and further addition of stages\n",
    "is \"stopped early\".\n",
    "\n",
    "The number of stages of the final model is available at the attribute\n",
    "``n_estimators_``.\n",
    "\n",
    "This example illustrates how the early stopping can used in the\n",
    ":class:`~sklearn.ensemble.GradientBoostingClassifier` model to achieve\n",
    "almost the same accuracy as compared to a model built without early stopping\n",
    "using many fewer estimators. This can significantly reduce training time,\n",
    "memory usage and prediction latency.\n"
   ]
  },
  {
   "cell_type": "code",
   "execution_count": 43,
   "metadata": {
    "collapsed": false,
    "jupyter": {
     "outputs_hidden": false
    }
   },
   "outputs": [],
   "source": [
    "import time\n",
    "import numpy as np\n",
    "from sklearn.ensemble import GradientBoostingClassifier\n",
    "from sklearn.datasets import load_digits\n",
    "from sklearn.model_selection import train_test_split"
   ]
  },
  {
   "cell_type": "markdown",
   "metadata": {},
   "source": [
    "\n",
    "- Load digits data set using `load_digits()`\n",
    "- Train `GradientBoostingCLassifier` with and without early stopping\n",
    "- Keep a timer for both cases and report the time it takes to train both models\n",
    "- Report the scores for both models"
   ]
  },
  {
   "cell_type": "code",
   "execution_count": 44,
   "metadata": {},
   "outputs": [],
   "source": [
    "df = load_digits()\n",
    "X = df.data\n",
    "y = df.target\n",
    "X_train, X_test, y_train, y_test = train_test_split(X, y, test_size=0.2, random_state=42)"
   ]
  },
  {
   "cell_type": "code",
   "execution_count": 45,
   "metadata": {},
   "outputs": [],
   "source": [
    "# GradientBoostingClassifier with early stop\n",
    "gbc_early = GradientBoostingClassifier(\n",
    "    n_estimators=100,\n",
    "    learning_rate=0.1,\n",
    "    validation_fraction=0.1,\n",
    "    n_iter_no_change=10,\n",
    "    tol=1e-4,\n",
    "    random_state=42\n",
    ")"
   ]
  },
  {
   "cell_type": "code",
   "execution_count": 46,
   "metadata": {},
   "outputs": [],
   "source": [
    "# GradientBoostingClassifier without early stop\n",
    "gbc_no_early = GradientBoostingClassifier(\n",
    "    n_estimators=100,\n",
    "    learning_rate=0.1,\n",
    "    random_state=42\n",
    ")"
   ]
  },
  {
   "cell_type": "code",
   "execution_count": 47,
   "metadata": {},
   "outputs": [
    {
     "data": {
      "text/plain": [
       "4.356600999832153"
      ]
     },
     "execution_count": 47,
     "metadata": {},
     "output_type": "execute_result"
    }
   ],
   "source": [
    "start_time = time.time()\n",
    "gbc_early.fit(X_train, y_train)\n",
    "# early stopping training time\n",
    "time.time() - start_time"
   ]
  },
  {
   "cell_type": "code",
   "execution_count": 48,
   "metadata": {},
   "outputs": [
    {
     "name": "stdout",
     "output_type": "stream",
     "text": [
      "94\n",
      "0.9611111111111111\n"
     ]
    }
   ],
   "source": [
    "print(gbc_early.n_estimators_)\n",
    "print(gbc_early.score(X_test, y_test))"
   ]
  },
  {
   "cell_type": "code",
   "execution_count": 49,
   "metadata": {},
   "outputs": [
    {
     "data": {
      "text/plain": [
       "5.049417018890381"
      ]
     },
     "execution_count": 49,
     "metadata": {},
     "output_type": "execute_result"
    }
   ],
   "source": [
    "start_time = time.time()\n",
    "gbc_no_early.fit(X_train, y_train)\n",
    "# without early stopping training time\n",
    "time.time() - start_time"
   ]
  },
  {
   "cell_type": "code",
   "execution_count": 50,
   "metadata": {},
   "outputs": [
    {
     "name": "stdout",
     "output_type": "stream",
     "text": [
      "100\n",
      "0.9694444444444444\n"
     ]
    }
   ],
   "source": [
    "print(gbc_no_early.n_estimators_)\n",
    "print(gbc_no_early.score(X_test, y_test))"
   ]
  }
 ],
 "metadata": {
  "kernelspec": {
   "display_name": "Python 3",
   "language": "python",
   "name": "python3"
  },
  "language_info": {
   "codemirror_mode": {
    "name": "ipython",
    "version": 3
   },
   "file_extension": ".py",
   "mimetype": "text/x-python",
   "name": "python",
   "nbconvert_exporter": "python",
   "pygments_lexer": "ipython3",
   "version": "3.9.7"
  }
 },
 "nbformat": 4,
 "nbformat_minor": 4
}
