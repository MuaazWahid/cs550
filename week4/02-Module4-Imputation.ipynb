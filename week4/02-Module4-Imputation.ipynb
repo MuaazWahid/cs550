{
 "cells": [
  {
   "cell_type": "markdown",
   "id": "1679c5fb-7040-4100-b786-dade16cc22a4",
   "metadata": {},
   "source": [
    "# 1. Dropping rows or columns"
   ]
  },
  {
   "cell_type": "code",
   "execution_count": 1,
   "id": "384bdbe4-ef4a-48ce-9054-9349643b8b2b",
   "metadata": {
    "tags": []
   },
   "outputs": [
    {
     "data": {
      "text/html": [
       "<div>\n",
       "<style scoped>\n",
       "    .dataframe tbody tr th:only-of-type {\n",
       "        vertical-align: middle;\n",
       "    }\n",
       "\n",
       "    .dataframe tbody tr th {\n",
       "        vertical-align: top;\n",
       "    }\n",
       "\n",
       "    .dataframe thead th {\n",
       "        text-align: right;\n",
       "    }\n",
       "</style>\n",
       "<table border=\"1\" class=\"dataframe\">\n",
       "  <thead>\n",
       "    <tr style=\"text-align: right;\">\n",
       "      <th></th>\n",
       "      <th>name</th>\n",
       "      <th>toy</th>\n",
       "      <th>born</th>\n",
       "    </tr>\n",
       "  </thead>\n",
       "  <tbody>\n",
       "    <tr>\n",
       "      <th>0</th>\n",
       "      <td>Superman</td>\n",
       "      <td>NaN</td>\n",
       "      <td>NaT</td>\n",
       "    </tr>\n",
       "    <tr>\n",
       "      <th>1</th>\n",
       "      <td>Batman</td>\n",
       "      <td>Batmobile</td>\n",
       "      <td>1956-06-26</td>\n",
       "    </tr>\n",
       "    <tr>\n",
       "      <th>2</th>\n",
       "      <td>Spiderman</td>\n",
       "      <td>Spiderman toy</td>\n",
       "      <td>NaT</td>\n",
       "    </tr>\n",
       "  </tbody>\n",
       "</table>\n",
       "</div>"
      ],
      "text/plain": [
       "        name            toy       born\n",
       "0   Superman            NaN        NaT\n",
       "1     Batman      Batmobile 1956-06-26\n",
       "2  Spiderman  Spiderman toy        NaT"
      ]
     },
     "execution_count": 1,
     "metadata": {},
     "output_type": "execute_result"
    }
   ],
   "source": [
    "import pandas as pd\n",
    "import numpy as np\n",
    "df = pd.DataFrame({\"name\": ['Superman', 'Batman', 'Spiderman'],\n",
    "                   \"toy\": [np.nan, 'Batmobile', 'Spiderman toy'],\n",
    "                   \"born\": [pd.NaT, pd.Timestamp(\"1956-06-26\"),\n",
    "                            pd.NaT]})\n",
    "df"
   ]
  },
  {
   "cell_type": "code",
   "execution_count": 2,
   "id": "4fc76587-3c74-4ee8-96bd-abd4b35a5629",
   "metadata": {
    "tags": []
   },
   "outputs": [
    {
     "data": {
      "text/html": [
       "<div>\n",
       "<style scoped>\n",
       "    .dataframe tbody tr th:only-of-type {\n",
       "        vertical-align: middle;\n",
       "    }\n",
       "\n",
       "    .dataframe tbody tr th {\n",
       "        vertical-align: top;\n",
       "    }\n",
       "\n",
       "    .dataframe thead th {\n",
       "        text-align: right;\n",
       "    }\n",
       "</style>\n",
       "<table border=\"1\" class=\"dataframe\">\n",
       "  <thead>\n",
       "    <tr style=\"text-align: right;\">\n",
       "      <th></th>\n",
       "      <th>name</th>\n",
       "      <th>toy</th>\n",
       "      <th>born</th>\n",
       "    </tr>\n",
       "  </thead>\n",
       "  <tbody>\n",
       "    <tr>\n",
       "      <th>0</th>\n",
       "      <td>False</td>\n",
       "      <td>True</td>\n",
       "      <td>True</td>\n",
       "    </tr>\n",
       "    <tr>\n",
       "      <th>1</th>\n",
       "      <td>False</td>\n",
       "      <td>False</td>\n",
       "      <td>False</td>\n",
       "    </tr>\n",
       "    <tr>\n",
       "      <th>2</th>\n",
       "      <td>False</td>\n",
       "      <td>False</td>\n",
       "      <td>True</td>\n",
       "    </tr>\n",
       "  </tbody>\n",
       "</table>\n",
       "</div>"
      ],
      "text/plain": [
       "    name    toy   born\n",
       "0  False   True   True\n",
       "1  False  False  False\n",
       "2  False  False   True"
      ]
     },
     "execution_count": 2,
     "metadata": {},
     "output_type": "execute_result"
    }
   ],
   "source": [
    "df.isna()"
   ]
  },
  {
   "cell_type": "code",
   "execution_count": 3,
   "id": "3c5f8fd0-1f0b-4fa0-986a-de2135c036aa",
   "metadata": {
    "tags": []
   },
   "outputs": [
    {
     "data": {
      "text/html": [
       "<div>\n",
       "<style scoped>\n",
       "    .dataframe tbody tr th:only-of-type {\n",
       "        vertical-align: middle;\n",
       "    }\n",
       "\n",
       "    .dataframe tbody tr th {\n",
       "        vertical-align: top;\n",
       "    }\n",
       "\n",
       "    .dataframe thead th {\n",
       "        text-align: right;\n",
       "    }\n",
       "</style>\n",
       "<table border=\"1\" class=\"dataframe\">\n",
       "  <thead>\n",
       "    <tr style=\"text-align: right;\">\n",
       "      <th></th>\n",
       "      <th>name</th>\n",
       "      <th>toy</th>\n",
       "      <th>born</th>\n",
       "    </tr>\n",
       "  </thead>\n",
       "  <tbody>\n",
       "    <tr>\n",
       "      <th>1</th>\n",
       "      <td>Batman</td>\n",
       "      <td>Batmobile</td>\n",
       "      <td>1956-06-26</td>\n",
       "    </tr>\n",
       "  </tbody>\n",
       "</table>\n",
       "</div>"
      ],
      "text/plain": [
       "     name        toy       born\n",
       "1  Batman  Batmobile 1956-06-26"
      ]
     },
     "execution_count": 3,
     "metadata": {},
     "output_type": "execute_result"
    }
   ],
   "source": [
    "df.dropna()"
   ]
  },
  {
   "cell_type": "code",
   "execution_count": 4,
   "id": "f83d492d-6786-497b-9548-94e0d82d4480",
   "metadata": {
    "tags": []
   },
   "outputs": [
    {
     "data": {
      "text/html": [
       "<div>\n",
       "<style scoped>\n",
       "    .dataframe tbody tr th:only-of-type {\n",
       "        vertical-align: middle;\n",
       "    }\n",
       "\n",
       "    .dataframe tbody tr th {\n",
       "        vertical-align: top;\n",
       "    }\n",
       "\n",
       "    .dataframe thead th {\n",
       "        text-align: right;\n",
       "    }\n",
       "</style>\n",
       "<table border=\"1\" class=\"dataframe\">\n",
       "  <thead>\n",
       "    <tr style=\"text-align: right;\">\n",
       "      <th></th>\n",
       "      <th>name</th>\n",
       "    </tr>\n",
       "  </thead>\n",
       "  <tbody>\n",
       "    <tr>\n",
       "      <th>0</th>\n",
       "      <td>Superman</td>\n",
       "    </tr>\n",
       "    <tr>\n",
       "      <th>1</th>\n",
       "      <td>Batman</td>\n",
       "    </tr>\n",
       "    <tr>\n",
       "      <th>2</th>\n",
       "      <td>Spiderman</td>\n",
       "    </tr>\n",
       "  </tbody>\n",
       "</table>\n",
       "</div>"
      ],
      "text/plain": [
       "        name\n",
       "0   Superman\n",
       "1     Batman\n",
       "2  Spiderman"
      ]
     },
     "execution_count": 4,
     "metadata": {},
     "output_type": "execute_result"
    }
   ],
   "source": [
    "df.dropna(axis='columns')"
   ]
  },
  {
   "cell_type": "code",
   "execution_count": 5,
   "id": "d6ad9bc4-a7fd-48b9-a078-f88cf4092b42",
   "metadata": {
    "tags": []
   },
   "outputs": [
    {
     "data": {
      "text/html": [
       "<div>\n",
       "<style scoped>\n",
       "    .dataframe tbody tr th:only-of-type {\n",
       "        vertical-align: middle;\n",
       "    }\n",
       "\n",
       "    .dataframe tbody tr th {\n",
       "        vertical-align: top;\n",
       "    }\n",
       "\n",
       "    .dataframe thead th {\n",
       "        text-align: right;\n",
       "    }\n",
       "</style>\n",
       "<table border=\"1\" class=\"dataframe\">\n",
       "  <thead>\n",
       "    <tr style=\"text-align: right;\">\n",
       "      <th></th>\n",
       "      <th>name</th>\n",
       "      <th>toy</th>\n",
       "      <th>born</th>\n",
       "    </tr>\n",
       "  </thead>\n",
       "  <tbody>\n",
       "    <tr>\n",
       "      <th>0</th>\n",
       "      <td>Superman</td>\n",
       "      <td>NaN</td>\n",
       "      <td>NaT</td>\n",
       "    </tr>\n",
       "    <tr>\n",
       "      <th>1</th>\n",
       "      <td>Batman</td>\n",
       "      <td>Batmobile</td>\n",
       "      <td>1956-06-26</td>\n",
       "    </tr>\n",
       "    <tr>\n",
       "      <th>2</th>\n",
       "      <td>Spiderman</td>\n",
       "      <td>Spiderman toy</td>\n",
       "      <td>NaT</td>\n",
       "    </tr>\n",
       "  </tbody>\n",
       "</table>\n",
       "</div>"
      ],
      "text/plain": [
       "        name            toy       born\n",
       "0   Superman            NaN        NaT\n",
       "1     Batman      Batmobile 1956-06-26\n",
       "2  Spiderman  Spiderman toy        NaT"
      ]
     },
     "execution_count": 5,
     "metadata": {},
     "output_type": "execute_result"
    }
   ],
   "source": [
    "df.dropna(how='all')"
   ]
  },
  {
   "cell_type": "code",
   "execution_count": 6,
   "id": "d280b67b-8bfc-41b1-b190-2157876427de",
   "metadata": {
    "tags": []
   },
   "outputs": [
    {
     "data": {
      "text/html": [
       "<div>\n",
       "<style scoped>\n",
       "    .dataframe tbody tr th:only-of-type {\n",
       "        vertical-align: middle;\n",
       "    }\n",
       "\n",
       "    .dataframe tbody tr th {\n",
       "        vertical-align: top;\n",
       "    }\n",
       "\n",
       "    .dataframe thead th {\n",
       "        text-align: right;\n",
       "    }\n",
       "</style>\n",
       "<table border=\"1\" class=\"dataframe\">\n",
       "  <thead>\n",
       "    <tr style=\"text-align: right;\">\n",
       "      <th></th>\n",
       "      <th>name</th>\n",
       "      <th>toy</th>\n",
       "      <th>born</th>\n",
       "    </tr>\n",
       "  </thead>\n",
       "  <tbody>\n",
       "    <tr>\n",
       "      <th>1</th>\n",
       "      <td>Batman</td>\n",
       "      <td>Batmobile</td>\n",
       "      <td>1956-06-26</td>\n",
       "    </tr>\n",
       "    <tr>\n",
       "      <th>2</th>\n",
       "      <td>Spiderman</td>\n",
       "      <td>Spiderman toy</td>\n",
       "      <td>NaT</td>\n",
       "    </tr>\n",
       "  </tbody>\n",
       "</table>\n",
       "</div>"
      ],
      "text/plain": [
       "        name            toy       born\n",
       "1     Batman      Batmobile 1956-06-26\n",
       "2  Spiderman  Spiderman toy        NaT"
      ]
     },
     "execution_count": 6,
     "metadata": {},
     "output_type": "execute_result"
    }
   ],
   "source": [
    "df.dropna(thresh=2)"
   ]
  },
  {
   "cell_type": "code",
   "execution_count": 7,
   "id": "9abe781b-ba2e-4023-948c-bc3c6f1ef780",
   "metadata": {
    "tags": []
   },
   "outputs": [
    {
     "data": {
      "text/html": [
       "<div>\n",
       "<style scoped>\n",
       "    .dataframe tbody tr th:only-of-type {\n",
       "        vertical-align: middle;\n",
       "    }\n",
       "\n",
       "    .dataframe tbody tr th {\n",
       "        vertical-align: top;\n",
       "    }\n",
       "\n",
       "    .dataframe thead th {\n",
       "        text-align: right;\n",
       "    }\n",
       "</style>\n",
       "<table border=\"1\" class=\"dataframe\">\n",
       "  <thead>\n",
       "    <tr style=\"text-align: right;\">\n",
       "      <th></th>\n",
       "      <th>name</th>\n",
       "      <th>toy</th>\n",
       "      <th>born</th>\n",
       "    </tr>\n",
       "  </thead>\n",
       "  <tbody>\n",
       "    <tr>\n",
       "      <th>1</th>\n",
       "      <td>Batman</td>\n",
       "      <td>Batmobile</td>\n",
       "      <td>1956-06-26</td>\n",
       "    </tr>\n",
       "  </tbody>\n",
       "</table>\n",
       "</div>"
      ],
      "text/plain": [
       "     name        toy       born\n",
       "1  Batman  Batmobile 1956-06-26"
      ]
     },
     "execution_count": 7,
     "metadata": {},
     "output_type": "execute_result"
    }
   ],
   "source": [
    "df.dropna(how='any')"
   ]
  },
  {
   "cell_type": "code",
   "execution_count": 8,
   "id": "02c65b13-72d0-47d9-b962-79e6a66bcbc9",
   "metadata": {
    "tags": []
   },
   "outputs": [
    {
     "data": {
      "text/html": [
       "<div>\n",
       "<style scoped>\n",
       "    .dataframe tbody tr th:only-of-type {\n",
       "        vertical-align: middle;\n",
       "    }\n",
       "\n",
       "    .dataframe tbody tr th {\n",
       "        vertical-align: top;\n",
       "    }\n",
       "\n",
       "    .dataframe thead th {\n",
       "        text-align: right;\n",
       "    }\n",
       "</style>\n",
       "<table border=\"1\" class=\"dataframe\">\n",
       "  <thead>\n",
       "    <tr style=\"text-align: right;\">\n",
       "      <th></th>\n",
       "      <th>name</th>\n",
       "      <th>toy</th>\n",
       "      <th>born</th>\n",
       "    </tr>\n",
       "  </thead>\n",
       "  <tbody>\n",
       "    <tr>\n",
       "      <th>1</th>\n",
       "      <td>Batman</td>\n",
       "      <td>Batmobile</td>\n",
       "      <td>1956-06-26</td>\n",
       "    </tr>\n",
       "  </tbody>\n",
       "</table>\n",
       "</div>"
      ],
      "text/plain": [
       "     name        toy       born\n",
       "1  Batman  Batmobile 1956-06-26"
      ]
     },
     "execution_count": 8,
     "metadata": {},
     "output_type": "execute_result"
    }
   ],
   "source": [
    "df.dropna(subset=['name', 'born'])"
   ]
  },
  {
   "cell_type": "code",
   "execution_count": 9,
   "id": "704c8a95-3487-4d7d-a159-b444d6eee6b7",
   "metadata": {
    "tags": []
   },
   "outputs": [
    {
     "data": {
      "text/html": [
       "<div>\n",
       "<style scoped>\n",
       "    .dataframe tbody tr th:only-of-type {\n",
       "        vertical-align: middle;\n",
       "    }\n",
       "\n",
       "    .dataframe tbody tr th {\n",
       "        vertical-align: top;\n",
       "    }\n",
       "\n",
       "    .dataframe thead th {\n",
       "        text-align: right;\n",
       "    }\n",
       "</style>\n",
       "<table border=\"1\" class=\"dataframe\">\n",
       "  <thead>\n",
       "    <tr style=\"text-align: right;\">\n",
       "      <th></th>\n",
       "      <th>name</th>\n",
       "      <th>toy</th>\n",
       "      <th>born</th>\n",
       "    </tr>\n",
       "  </thead>\n",
       "  <tbody>\n",
       "    <tr>\n",
       "      <th>1</th>\n",
       "      <td>Batman</td>\n",
       "      <td>Batmobile</td>\n",
       "      <td>1956-06-26</td>\n",
       "    </tr>\n",
       "  </tbody>\n",
       "</table>\n",
       "</div>"
      ],
      "text/plain": [
       "     name        toy       born\n",
       "1  Batman  Batmobile 1956-06-26"
      ]
     },
     "execution_count": 9,
     "metadata": {},
     "output_type": "execute_result"
    }
   ],
   "source": [
    "df.dropna(inplace=True)\n",
    "df"
   ]
  },
  {
   "cell_type": "markdown",
   "id": "bae6f78b-e8aa-4acf-9823-14e76edf7a67",
   "metadata": {},
   "source": [
    "# 2. Creating a dataset with missing values"
   ]
  },
  {
   "cell_type": "code",
   "execution_count": 15,
   "id": "8f3d58a2-70b5-4f08-a79b-60d2ea988e04",
   "metadata": {
    "tags": []
   },
   "outputs": [],
   "source": [
    "import numpy as np\n",
    "import matplotlib.pyplot as plt\n",
    "import pandas as pd\n",
    "%matplotlib inline\n",
    "plt.rcParams[\"savefig.dpi\"] = 300\n",
    "plt.rcParams[\"savefig.bbox\"] = 'tight'"
   ]
  },
  {
   "cell_type": "code",
   "execution_count": 16,
   "id": "e92cbbe5-2b00-429c-a4f9-96c7beec172b",
   "metadata": {
    "tags": []
   },
   "outputs": [],
   "source": [
    "from sklearn.datasets import load_iris\n",
    "from sklearn.utils import shuffle\n",
    "iris = load_iris()"
   ]
  },
  {
   "cell_type": "code",
   "execution_count": 17,
   "id": "14fafebd-1b57-40ee-bc9b-383fde488859",
   "metadata": {
    "tags": []
   },
   "outputs": [],
   "source": [
    "X, y = iris.data, iris.target\n",
    "X, y = shuffle(X, y)"
   ]
  },
  {
   "cell_type": "code",
   "execution_count": 18,
   "id": "a1de209b-ce70-4163-bf0c-329b59bc8574",
   "metadata": {
    "tags": []
   },
   "outputs": [
    {
     "name": "stdout",
     "output_type": "stream",
     "text": [
      "[[6.5 3.  5.5 1.8]\n",
      " [6.6 3.  4.4 1.4]\n",
      " [6.4 2.7 5.3 1.9]\n",
      " [5.7 3.  4.2 1.2]\n",
      " [7.7 2.8 6.7 2. ]\n",
      " [5.  2.  3.5 1. ]\n",
      " [5.9 3.  5.1 1.8]\n",
      " [5.8 2.8 5.1 2.4]\n",
      " [5.7 2.8 4.5 1.3]\n",
      " [6.9 3.2 5.7 2.3]\n",
      " [4.6 3.1 1.5 0.2]\n",
      " [6.5 3.  5.8 2.2]\n",
      " [5.6 2.8 4.9 2. ]\n",
      " [6.2 2.9 4.3 1.3]\n",
      " [4.7 3.2 1.3 0.2]\n",
      " [6.1 2.6 5.6 1.4]\n",
      " [5.2 3.5 1.5 0.2]\n",
      " [5.  3.4 1.6 0.4]\n",
      " [4.3 3.  1.1 0.1]\n",
      " [6.3 3.3 6.  2.5]\n",
      " [5.4 3.7 1.5 0.2]\n",
      " [5.5 2.5 4.  1.3]\n",
      " [5.8 2.6 4.  1.2]\n",
      " [6.3 2.5 4.9 1.5]\n",
      " [6.5 2.8 4.6 1.5]\n",
      " [7.3 2.9 6.3 1.8]\n",
      " [7.7 3.8 6.7 2.2]\n",
      " [5.7 2.6 3.5 1. ]\n",
      " [5.  3.2 1.2 0.2]\n",
      " [5.4 3.4 1.7 0.2]]\n"
     ]
    }
   ],
   "source": [
    "print(X[:30])"
   ]
  },
  {
   "cell_type": "code",
   "execution_count": 19,
   "id": "9d656718-1299-404d-a689-b7b09d8ee700",
   "metadata": {
    "tags": []
   },
   "outputs": [
    {
     "data": {
      "text/plain": [
       "(150, 4)"
      ]
     },
     "execution_count": 19,
     "metadata": {},
     "output_type": "execute_result"
    }
   ],
   "source": [
    "X.shape"
   ]
  },
  {
   "cell_type": "code",
   "execution_count": 20,
   "id": "2cb0a27d-a91c-4e1b-9845-8e726ee16458",
   "metadata": {
    "tags": []
   },
   "outputs": [
    {
     "data": {
      "text/plain": [
       "array([[nan, 2.8, 5.1, 1.5],\n",
       "       [nan, 3.5, 1.6, 0.6],\n",
       "       [nan, 2.7, 4.9, 1.8],\n",
       "       [nan, 2.8, 5.6, 2.2],\n",
       "       [nan, 3.4, 1.4, 0.2],\n",
       "       [nan, 2.9, 4.6, 1.3],\n",
       "       [7.9, 3.8, 6.4, 2. ],\n",
       "       [nan, 2.7, 4.2, 1.3],\n",
       "       [nan, 2.7, 3.9, 1.4],\n",
       "       [nan, 3.1, 1.5, 0.1],\n",
       "       [nan, 3.2, 1.6, 0.2],\n",
       "       [nan, 2.6, 4.4, 1.2],\n",
       "       [nan, 3. , 4.1, 1.3],\n",
       "       [7.6, 3. , 6.6, 2.1],\n",
       "       [nan, 3.5, 1.3, 0.3],\n",
       "       [nan, 2.2, 4.5, 1.5],\n",
       "       [nan, 3.4, 1.5, 0.2],\n",
       "       [nan, 3. , 1.4, 0.2],\n",
       "       [nan, 3.5, 1.4, 0.2],\n",
       "       [nan, 2.3, 4.4, 1.3],\n",
       "       [nan, 2.4, 3.8, 1.1],\n",
       "       [nan, 2.8, 4.8, 1.4],\n",
       "       [nan, 3. , 1.4, 0.3],\n",
       "       [nan, 3.2, 1.4, 0.2],\n",
       "       [nan, 3.7, 1.5, 0.4],\n",
       "       [nan, 3. , 4.8, 1.8],\n",
       "       [nan, 2.4, 3.7, 1. ],\n",
       "       [nan, 3.4, 1.5, 0.2],\n",
       "       [nan, 2.7, 3.9, 1.2],\n",
       "       [nan, 4. , 1.2, 0.2]])"
      ]
     },
     "execution_count": 20,
     "metadata": {},
     "output_type": "execute_result"
    }
   ],
   "source": [
    "# a column is mostly missing\n",
    "rng = np.random.RandomState(0)\n",
    "X_missing_column = X.copy()\n",
    "mask = X.sum(axis=1) < rng.normal(loc=19, scale=3, size=X.shape[0])\n",
    "X_missing_column[mask, 0] = np.NaN\n",
    "X_missing_column[120:]"
   ]
  },
  {
   "cell_type": "code",
   "execution_count": 21,
   "id": "e6dd5ac2-9386-4cdc-ab2d-21b57157cb14",
   "metadata": {
    "tags": []
   },
   "outputs": [
    {
     "name": "stdout",
     "output_type": "stream",
     "text": [
      "[ True  True  True  True  True  True  True  True  True  True  True  True\n",
      "  True  True  True  True  True  True  True False  True  True  True  True\n",
      "  True False False  True  True  True  True  True  True  True  True  True\n",
      "  True  True  True  True  True False  True  True  True False  True  True\n",
      " False  True False  True  True  True  True  True  True  True  True  True\n",
      "  True  True  True  True  True  True False  True  True  True  True  True\n",
      "  True False  True  True  True False  True  True False  True  True  True\n",
      "  True  True  True  True  True  True  True  True  True  True  True  True\n",
      "  True  True  True  True  True False  True  True False  True  True  True\n",
      "  True  True  True  True False  True  True  True  True  True  True  True\n",
      "  True  True  True  True  True  True False  True  True  True  True  True\n",
      "  True False  True  True  True  True  True  True  True  True  True  True\n",
      "  True  True  True  True  True  True]\n"
     ]
    }
   ],
   "source": [
    "print(mask)"
   ]
  },
  {
   "cell_type": "code",
   "execution_count": 22,
   "id": "a17d0fc1-edb2-411d-a0b1-247432215b61",
   "metadata": {
    "tags": []
   },
   "outputs": [
    {
     "data": {
      "text/plain": [
       "array([[6.5, 3. , 5.5, 1.8],\n",
       "       [nan, nan, 4.4, 1.4],\n",
       "       [6.4, 2.7, 5.3, 1.9],\n",
       "       [5.7, 3. , 4.2, 1.2],\n",
       "       [7.7, 2.8, 6.7, 2. ],\n",
       "       [nan, nan, nan, nan],\n",
       "       [5.9, 3. , 5.1, 1.8],\n",
       "       [5.8, 2.8, 5.1, 2.4],\n",
       "       [5.7, 2.8, 4.5, 1.3],\n",
       "       [6.9, 3.2, 5.7, 2.3],\n",
       "       [4.6, 3.1, 1.5, 0.2],\n",
       "       [6.5, 3. , 5.8, 2.2],\n",
       "       [5.6, 2.8, 4.9, 2. ],\n",
       "       [6.2, 2.9, 4.3, 1.3],\n",
       "       [nan, nan, nan, nan],\n",
       "       [6.1, 2.6, 5.6, 1.4],\n",
       "       [5.2, 3.5, 1.5, 0.2],\n",
       "       [5. , 3.4, 1.6, 0.4],\n",
       "       [4.3, 3. , 1.1, 0.1],\n",
       "       [6.3, 3.3, 6. , 2.5],\n",
       "       [5.4, 3.7, 1.5, 0.2],\n",
       "       [5.5, 2.5, 4. , 1.3],\n",
       "       [5.8, 2.6, 4. , 1.2],\n",
       "       [6.3, nan, nan, nan],\n",
       "       [6.5, 2.8, 4.6, 1.5],\n",
       "       [7.3, 2.9, 6.3, 1.8],\n",
       "       [nan, nan, nan, 2.2],\n",
       "       [5.7, 2.6, 3.5, 1. ],\n",
       "       [5. , 3.2, 1.2, 0.2],\n",
       "       [5.4, 3.4, 1.7, 0.2]])"
      ]
     },
     "execution_count": 22,
     "metadata": {},
     "output_type": "execute_result"
    }
   ],
   "source": [
    "# only a few rows have missing data. but a lot of it\n",
    "rng = np.random.RandomState(4)\n",
    "X_missing_rows = X.copy()\n",
    "for i in rng.randint(0, 30, 5):\n",
    "    X_missing_rows[i, rng.uniform(size=4)> .2] = np.NaN\n",
    "X_missing_rows[:30]"
   ]
  },
  {
   "cell_type": "code",
   "execution_count": 23,
   "id": "aa0cccd1-6fb4-4a44-884a-af874c1cea80",
   "metadata": {
    "tags": []
   },
   "outputs": [
    {
     "data": {
      "text/plain": [
       "array([ 0,  8, 19, 10, 13])"
      ]
     },
     "execution_count": 23,
     "metadata": {},
     "output_type": "execute_result"
    }
   ],
   "source": [
    "rng.randint(0, 30, 5)\n"
   ]
  },
  {
   "cell_type": "code",
   "execution_count": 24,
   "id": "6260119f-5147-424b-a8e9-aef42504a6a7",
   "metadata": {
    "tags": []
   },
   "outputs": [
    {
     "data": {
      "text/plain": [
       "array([6.588, 2.974, 5.552, 2.026])"
      ]
     },
     "execution_count": 24,
     "metadata": {},
     "output_type": "execute_result"
    }
   ],
   "source": [
    "X[y==2].mean(axis=0)"
   ]
  },
  {
   "cell_type": "code",
   "execution_count": 25,
   "id": "2d4ceb9a-e3d5-4fd2-b14a-43bcb58666b2",
   "metadata": {
    "tags": []
   },
   "outputs": [
    {
     "data": {
      "text/plain": [
       "array([[6.5, 3. , nan, 1.8],\n",
       "       [6.6, 3. , 4.4, 1.4],\n",
       "       [6.4, 2.7, nan, 1.9],\n",
       "       [5.7, 3. , 4.2, 1.2],\n",
       "       [7.7, 2.8, 6.7, nan],\n",
       "       [5. , 2. , 3.5, 1. ],\n",
       "       [5.9, 3. , 5.1, 1.8],\n",
       "       [5.8, 2.8, nan, nan],\n",
       "       [5.7, 2.8, nan, 1.3],\n",
       "       [6.9, 3.2, nan, nan],\n",
       "       [4.6, 3.1, 1.5, 0.2],\n",
       "       [6.5, 3. , 5.8, 2.2],\n",
       "       [5.6, 2.8, 4.9, 2. ],\n",
       "       [6.2, 2.9, 4.3, 1.3],\n",
       "       [4.7, 3.2, 1.3, 0.2],\n",
       "       [6.1, 2.6, nan, nan],\n",
       "       [5.2, 3.5, 1.5, 0.2],\n",
       "       [5. , 3.4, 1.6, 0.4],\n",
       "       [4.3, 3. , 1.1, 0.1],\n",
       "       [6.3, 3.3, nan, 2.5],\n",
       "       [5.4, 3.7, 1.5, 0.2],\n",
       "       [5.5, 2.5, 4. , 1.3],\n",
       "       [5.8, 2.6, 4. , 1.2],\n",
       "       [6.3, 2.5, nan, nan],\n",
       "       [6.5, 2.8, nan, 1.5],\n",
       "       [7.3, 2.9, nan, 1.8],\n",
       "       [7.7, 3.8, 6.7, 2.2],\n",
       "       [5.7, 2.6, 3.5, 1. ],\n",
       "       [5. , 3.2, 1.2, 0.2],\n",
       "       [5.4, 3.4, 1.7, 0.2]])"
      ]
     },
     "execution_count": 25,
     "metadata": {},
     "output_type": "execute_result"
    }
   ],
   "source": [
    "# some values missing only\n",
    "rng = np.random.RandomState(0)\n",
    "X_some_missing = X.copy()\n",
    "mask = np.abs(X[:, 2] - rng.normal(loc=5.5, scale=.7, size=X.shape[0])) < .6\n",
    "X_some_missing[mask, 3] = np.NaN\n",
    "# different random numbers\n",
    "mask2 = np.abs(X[:, 2] - rng.normal(loc=5.5, scale=.7, size=X.shape[0])) < .6\n",
    "X_some_missing[mask2, 2] = np.NaN\n",
    "X_some_missing[:30]"
   ]
  },
  {
   "cell_type": "code",
   "execution_count": 26,
   "id": "e3387345-6337-4bfa-a0d1-6093d28efe4d",
   "metadata": {
    "tags": []
   },
   "outputs": [
    {
     "data": {
      "text/plain": [
       "0.14"
      ]
     },
     "execution_count": 26,
     "metadata": {},
     "output_type": "execute_result"
    }
   ],
   "source": [
    "np.mean(mask)"
   ]
  },
  {
   "cell_type": "code",
   "execution_count": 27,
   "id": "a5fef77d-817d-4542-b7e3-4f716d3c8bd8",
   "metadata": {
    "tags": []
   },
   "outputs": [
    {
     "data": {
      "text/plain": [
       "array([50, 38, 20])"
      ]
     },
     "execution_count": 27,
     "metadata": {},
     "output_type": "execute_result"
    }
   ],
   "source": [
    "np.bincount(y[~mask2])"
   ]
  },
  {
   "cell_type": "markdown",
   "id": "41fddc4f-f53c-4653-b415-ded33777e7bb",
   "metadata": {},
   "source": [
    "# 3. Using SimpleImputer"
   ]
  },
  {
   "cell_type": "code",
   "execution_count": 28,
   "id": "dbe8f9c6-c8fc-4cdb-8926-7354b667b445",
   "metadata": {
    "tags": []
   },
   "outputs": [],
   "source": [
    "# from now on use X_ = X_some_missing\n",
    "X_ = X_some_missing"
   ]
  },
  {
   "cell_type": "code",
   "execution_count": 29,
   "id": "fc764fda-559c-43af-8443-a07c7e1dd60a",
   "metadata": {
    "tags": []
   },
   "outputs": [],
   "source": [
    "from sklearn.linear_model import LogisticRegression\n",
    "from sklearn.model_selection import train_test_split, cross_val_score\n",
    "X_train, X_test, y_train, y_test = train_test_split(X_, y, stratify=y, random_state=0)"
   ]
  },
  {
   "cell_type": "code",
   "execution_count": 30,
   "id": "0471e13c-7b3a-401b-9e85-16bc9e560ee5",
   "metadata": {
    "tags": []
   },
   "outputs": [
    {
     "data": {
      "text/plain": [
       "0.8477272727272729"
      ]
     },
     "execution_count": 30,
     "metadata": {},
     "output_type": "execute_result"
    }
   ],
   "source": [
    "from sklearn.pipeline import make_pipeline\n",
    "from sklearn.preprocessing import StandardScaler\n",
    "\n",
    "nan_columns = np.any(np.isnan(X_train), axis=0)\n",
    "X_drop_columns = X_train[:, ~nan_columns]\n",
    "logreg = make_pipeline(StandardScaler(), LogisticRegression(solver='lbfgs',multi_class='multinomial'))\n",
    "scores = cross_val_score(logreg, X_drop_columns, y_train, cv=10)\n",
    "np.mean(scores)"
   ]
  },
  {
   "cell_type": "code",
   "execution_count": null,
   "id": "93f02d4d-ca3a-454a-be6d-e99eb0991d43",
   "metadata": {},
   "outputs": [],
   "source": []
  },
  {
   "cell_type": "code",
   "execution_count": 31,
   "id": "6f942b9e-7eda-4c44-ba32-e3e0922a1bdf",
   "metadata": {
    "tags": []
   },
   "outputs": [
    {
     "name": "stdout",
     "output_type": "stream",
     "text": [
      "[[5.8 2.6 4.  1.2]\n",
      " [7.2 3.2 nan 1.8]\n",
      " [4.8 3.1 1.6 0.2]\n",
      " [5.8 4.  1.2 0.2]\n",
      " [4.8 3.  1.4 0.3]\n",
      " [5.4 3.7 1.5 0.2]\n",
      " [5.4 3.4 1.7 0.2]\n",
      " [6.2 2.2 4.5 1.5]\n",
      " [6.7 3.  nan 2.3]\n",
      " [7.6 3.  nan 2.1]\n",
      " [6.9 3.1 nan 2.1]\n",
      " [4.9 3.6 1.4 0.1]\n",
      " [6.5 3.  5.2 2. ]\n",
      " [5.2 3.5 1.5 0.2]\n",
      " [5.8 2.8 nan nan]\n",
      " [5.1 3.4 1.5 0.2]\n",
      " [5.2 2.7 nan 1.4]\n",
      " [6.7 3.1 nan 1.4]\n",
      " [5.9 3.2 nan nan]\n",
      " [6.  2.2 4.  1. ]\n",
      " [4.6 3.6 1.  0.2]\n",
      " [6.3 2.7 4.9 1.8]\n",
      " [6.7 3.3 5.7 2.1]\n",
      " [5.1 3.7 1.5 0.4]\n",
      " [5.9 3.  4.2 1.5]\n",
      " [5.4 3.  4.5 1.5]\n",
      " [5.2 4.1 1.5 0.1]\n",
      " [6.8 3.  5.5 2.1]\n",
      " [6.4 2.8 nan 2.1]\n",
      " [7.7 3.8 6.7 2.2]]\n"
     ]
    }
   ],
   "source": [
    "print(X_train[-30:])"
   ]
  },
  {
   "cell_type": "code",
   "execution_count": 32,
   "id": "13e38fac-3603-4536-8106-19dc3942aa23",
   "metadata": {
    "tags": []
   },
   "outputs": [],
   "source": [
    "np.set_printoptions(precision=3)"
   ]
  },
  {
   "cell_type": "code",
   "execution_count": 33,
   "id": "bfb0c44c-7382-42bc-b9eb-68fd4f9816f2",
   "metadata": {
    "tags": []
   },
   "outputs": [
    {
     "data": {
      "text/plain": [
       "array([[5.8  , 2.6  , 4.   , 1.2  ],\n",
       "       [7.2  , 3.2  , 3.106, 1.8  ],\n",
       "       [4.8  , 3.1  , 1.6  , 0.2  ],\n",
       "       [5.8  , 4.   , 1.2  , 0.2  ],\n",
       "       [4.8  , 3.   , 1.4  , 0.3  ],\n",
       "       [5.4  , 3.7  , 1.5  , 0.2  ],\n",
       "       [5.4  , 3.4  , 1.7  , 0.2  ],\n",
       "       [6.2  , 2.2  , 4.5  , 1.5  ],\n",
       "       [6.7  , 3.   , 3.106, 2.3  ],\n",
       "       [7.6  , 3.   , 3.106, 2.1  ],\n",
       "       [6.9  , 3.1  , 3.106, 2.1  ],\n",
       "       [4.9  , 3.6  , 1.4  , 0.1  ],\n",
       "       [6.5  , 3.   , 5.2  , 2.   ],\n",
       "       [5.2  , 3.5  , 1.5  , 0.2  ],\n",
       "       [5.8  , 2.8  , 3.106, 1.095],\n",
       "       [5.1  , 3.4  , 1.5  , 0.2  ],\n",
       "       [5.2  , 2.7  , 3.106, 1.4  ],\n",
       "       [6.7  , 3.1  , 3.106, 1.4  ],\n",
       "       [5.9  , 3.2  , 3.106, 1.095],\n",
       "       [6.   , 2.2  , 4.   , 1.   ],\n",
       "       [4.6  , 3.6  , 1.   , 0.2  ],\n",
       "       [6.3  , 2.7  , 4.9  , 1.8  ],\n",
       "       [6.7  , 3.3  , 5.7  , 2.1  ],\n",
       "       [5.1  , 3.7  , 1.5  , 0.4  ],\n",
       "       [5.9  , 3.   , 4.2  , 1.5  ],\n",
       "       [5.4  , 3.   , 4.5  , 1.5  ],\n",
       "       [5.2  , 4.1  , 1.5  , 0.1  ],\n",
       "       [6.8  , 3.   , 5.5  , 2.1  ],\n",
       "       [6.4  , 2.8  , 3.106, 2.1  ],\n",
       "       [7.7  , 3.8  , 6.7  , 2.2  ]])"
      ]
     },
     "execution_count": 33,
     "metadata": {},
     "output_type": "execute_result"
    }
   ],
   "source": [
    "from sklearn.impute import SimpleImputer\n",
    "imp = SimpleImputer(strategy=\"mean\").fit(X_train)\n",
    "X_mean_imp = imp.transform(X_train)\n",
    "X_mean_imp[-30:]"
   ]
  },
  {
   "cell_type": "code",
   "execution_count": 34,
   "id": "f1abd1ba-733b-4f2c-97f6-3784fd2d3d45",
   "metadata": {
    "tags": []
   },
   "outputs": [
    {
     "data": {
      "text/plain": [
       "(112, 4)"
      ]
     },
     "execution_count": 34,
     "metadata": {},
     "output_type": "execute_result"
    }
   ],
   "source": [
    "X_mean_imp.shape"
   ]
  },
  {
   "cell_type": "code",
   "execution_count": 35,
   "id": "52fc5609-11e6-4959-a85a-bc2591391150",
   "metadata": {
    "tags": []
   },
   "outputs": [
    {
     "data": {
      "image/png": "[encoded data removed]",
      "text/plain": [
       "<Figure size 640x480 with 1 Axes>"
      ]
     },
     "metadata": {},
     "output_type": "display_data"
    }
   ],
   "source": [
    "import matplotlib.patches as patches\n",
    "imputed_mask = np.any(np.isnan(X_train), axis=1)\n",
    "\n",
    "def plot_imputation(X_imp, title=None, ax=None):\n",
    "    # helper function to plot imputed data points\n",
    "    if ax is None:\n",
    "        ax = plt.gca()\n",
    "    if title is not None:\n",
    "        ax.set_title(title)\n",
    "    ax.scatter(X_imp[imputed_mask, 2], X_imp[imputed_mask, 3], c=plt.cm.tab10(y_train[imputed_mask]), alpha=.6, marker=\"s\")\n",
    "    ax.scatter(X_imp[~imputed_mask, 2], X_imp[~imputed_mask, 3], c=plt.cm.tab10(y_train[~imputed_mask]), alpha=.6)\n",
    "    # this is for creating the legend...\n",
    "    square = plt.Line2D((0,), (0,), linestyle='', marker=\"s\", markerfacecolor=\"w\", markeredgecolor=\"k\", label='Imputed data')\n",
    "    circle = plt.Line2D((0,), (0,), linestyle='', marker=\"o\", markerfacecolor=\"w\", markeredgecolor=\"k\", label='Real data')\n",
    "    plt.legend(handles=[square, circle], numpoints=1, loc=\"best\")\n",
    "\n",
    "plot_imputation(X_mean_imp, \"Mean imputation\")"
   ]
  },
  {
   "cell_type": "code",
   "execution_count": 36,
   "id": "e50974aa-5a52-40e6-bb6b-01773e214375",
   "metadata": {
    "tags": []
   },
   "outputs": [
    {
     "data": {
      "text/plain": [
       "0.8128787878787879"
      ]
     },
     "execution_count": 36,
     "metadata": {},
     "output_type": "execute_result"
    }
   ],
   "source": [
    "mean_pipe = make_pipeline(SimpleImputer(), StandardScaler(), LogisticRegression(solver='lbfgs',multi_class='multinomial'))\n",
    "scores = cross_val_score(mean_pipe, X_train, y_train, cv=10)\n",
    "np.mean(scores)"
   ]
  },
  {
   "cell_type": "markdown",
   "id": "a762c5c3-7dc2-44e5-b732-4fb3aed26d88",
   "metadata": {
    "tags": []
   },
   "source": [
    "# Model-driven imputation and KNN"
   ]
  },
  {
   "cell_type": "code",
   "execution_count": 37,
   "id": "067978e7-bfda-49bc-9719-eafbb85e78a0",
   "metadata": {
    "tags": []
   },
   "outputs": [],
   "source": [
    "# Very inefficient didactic implementation\n",
    "\n",
    "distances = np.zeros((X_train.shape[0], X_train.shape[0]))\n",
    "for i, x1 in enumerate(X_train):\n",
    "    for j, x2 in enumerate(X_train):\n",
    "        dist = (x1 - x2) ** 2\n",
    "        nan_mask = np.isnan(dist)\n",
    "        distances[i, j] = dist[~nan_mask].mean() * X_train.shape[1]\n",
    "        \n",
    "neighbors = np.argsort(distances, axis=1)[:, 1:]\n",
    "n_neighbors = 3\n",
    "\n",
    "X_train_knn = X_train.copy()\n",
    "for feature in range(X_train.shape[1]):\n",
    "    has_missing_value = np.isnan(X_train[:, feature])\n",
    "    for row in np.where(has_missing_value)[0]:\n",
    "        neighbor_features = X_train[neighbors[row], feature]\n",
    "        non_nan_neighbors = neighbor_features[~np.isnan(neighbor_features)]\n",
    "        X_train_knn[row, feature] = non_nan_neighbors[:n_neighbors].mean()"
   ]
  },
  {
   "cell_type": "code",
   "execution_count": 38,
   "id": "fb31f8f0-3e6c-40ba-a253-04e5fdcc0b68",
   "metadata": {
    "tags": []
   },
   "outputs": [
    {
     "data": {
      "text/plain": [
       "array([[6. , 3.4, 4.5, 1.6],\n",
       "       [4.7, 3.2, 1.3, 0.2],\n",
       "       [4.4, 2.9, 1.4, 0.2],\n",
       "       [5.6, 3. , 4.1, 1.3]])"
      ]
     },
     "execution_count": 38,
     "metadata": {},
     "output_type": "execute_result"
    }
   ],
   "source": [
    "X_train[:4]"
   ]
  },
  {
   "cell_type": "code",
   "execution_count": 39,
   "id": "979ba5f2-0423-4e09-97a6-78cb99fb1d07",
   "metadata": {
    "tags": []
   },
   "outputs": [
    {
     "name": "stdout",
     "output_type": "stream",
     "text": [
      "0 [6.  3.4 4.5 1.6]\n",
      "1 [4.7 3.2 1.3 0.2]\n",
      "2 [4.4 2.9 1.4 0.2]\n",
      "3 [5.6 3.  4.1 1.3]\n",
      "4 [6.5 3.  5.8 2.2]\n",
      "5 [6.4 2.8 nan 2.2]\n",
      "6 [5.7 2.9 4.2 1.3]\n",
      "7 [4.7 3.2 1.6 0.2]\n",
      "8 [6.9 3.1 4.9 1.5]\n",
      "9 [4.9 3.  1.4 0.2]\n",
      "10 [5.4 3.4 1.5 0.4]\n",
      "11 [4.9 2.4 3.3 1. ]\n",
      "12 [5.  3.  1.6 0.2]\n",
      "13 [5.8 2.7 nan 1.9]\n",
      "14 [4.8 3.4 1.6 0.2]\n",
      "15 [5.  2.3 3.3 1. ]\n",
      "16 [6.1 2.9 nan 1.4]\n",
      "17 [5.5 2.3 4.  1.3]\n",
      "18 [6.4 2.9 4.3 nan]\n",
      "19 [6.8 3.2 5.9 2.3]\n",
      "20 [7.4 2.8 nan 1.9]\n",
      "21 [6.1 2.8 4.7 nan]\n",
      "22 [4.8 3.  1.4 0.1]\n",
      "23 [6.3 3.4 nan nan]\n",
      "24 [6.9 3.1 nan 2.3]\n",
      "25 [6.7 3.3 5.7 nan]\n",
      "26 [7.7 3.  nan 2.3]\n",
      "27 [5.5 2.6 4.4 1.2]\n",
      "28 [6.8 2.8 nan 1.4]\n",
      "29 [5.7 2.5 5.  2. ]\n",
      "30 [6.4 2.7 nan 1.9]\n",
      "31 [5.6 2.8 4.9 2. ]\n",
      "32 [6.4 3.2 4.5 1.5]\n",
      "33 [5.2 3.4 1.4 0.2]\n",
      "34 [4.3 3.  1.1 0.1]\n",
      "35 [6.  2.2 nan 1.5]\n",
      "36 [6.3 2.9 nan nan]\n",
      "37 [6.3 2.5 nan nan]\n",
      "38 [6.5 2.8 nan 1.5]\n",
      "39 [6.4 3.2 nan 2.3]\n",
      "40 [6.7 2.5 nan 1.8]\n",
      "41 [5.1 3.5 1.4 0.2]\n",
      "42 [5.  3.3 1.4 0.2]\n",
      "43 [5.6 2.5 3.9 1.1]\n",
      "44 [5.1 3.5 1.4 0.3]\n",
      "45 [5.  2.  3.5 1. ]\n",
      "46 [6.5 3.2 nan 2. ]\n",
      "47 [5.1 3.8 1.6 0.2]\n",
      "48 [5.1 3.8 1.9 0.4]\n",
      "49 [6.3 2.5 5.  nan]\n",
      "50 [5.7 2.8 nan 1.3]\n",
      "51 [6.9 3.2 nan nan]\n",
      "52 [5.7 2.6 3.5 1. ]\n",
      "53 [4.4 3.  1.3 0.2]\n",
      "54 [5.1 3.8 1.5 0.3]\n",
      "55 [5.1 3.3 1.7 0.5]\n",
      "56 [5.  3.5 1.3 0.3]\n",
      "57 [7.3 2.9 nan 1.8]\n",
      "58 [4.8 3.4 1.9 0.2]\n",
      "59 [5.6 3.  nan 1.5]\n",
      "60 [5.1 2.5 3.  1.1]\n",
      "61 [5.5 2.4 3.8 1.1]\n",
      "62 [6.2 2.8 4.8 nan]\n",
      "63 [4.9 3.1 1.5 0.2]\n",
      "64 [5.8 2.7 nan 1. ]\n",
      "65 [6.3 2.3 4.4 nan]\n",
      "66 [5.  3.5 1.6 0.6]\n",
      "67 [5.7 2.8 4.1 1.3]\n",
      "68 [6.1 2.6 nan nan]\n",
      "69 [6.1 2.8 4.  1.3]\n",
      "70 [7.7 2.8 6.7 nan]\n",
      "71 [5.4 3.9 1.7 0.4]\n",
      "72 [7.  3.2 nan 1.4]\n",
      "73 [7.2 3.6 6.1 2.5]\n",
      "74 [6.1 3.  nan nan]\n",
      "75 [5.6 2.9 3.6 1.3]\n",
      "76 [6.3 2.8 5.1 1.5]\n",
      "77 [5.3 3.7 1.5 0.2]\n",
      "78 [5.5 2.4 3.7 1. ]\n",
      "79 [4.5 2.3 1.3 0.3]\n",
      "80 [5.4 3.9 1.3 0.4]\n",
      "81 [6.7 3.1 nan nan]\n",
      "82 [5.8 2.6 4.  1.2]\n",
      "83 [7.2 3.2 nan 1.8]\n",
      "84 [4.8 3.1 1.6 0.2]\n",
      "85 [5.8 4.  1.2 0.2]\n",
      "86 [4.8 3.  1.4 0.3]\n",
      "87 [5.4 3.7 1.5 0.2]\n",
      "88 [5.4 3.4 1.7 0.2]\n",
      "89 [6.2 2.2 4.5 1.5]\n",
      "90 [6.7 3.  nan 2.3]\n",
      "91 [7.6 3.  nan 2.1]\n",
      "92 [6.9 3.1 nan 2.1]\n",
      "93 [4.9 3.6 1.4 0.1]\n",
      "94 [6.5 3.  5.2 2. ]\n",
      "95 [5.2 3.5 1.5 0.2]\n",
      "96 [5.8 2.8 nan nan]\n",
      "97 [5.1 3.4 1.5 0.2]\n",
      "98 [5.2 2.7 nan 1.4]\n",
      "99 [6.7 3.1 nan 1.4]\n",
      "100 [5.9 3.2 nan nan]\n",
      "101 [6.  2.2 4.  1. ]\n",
      "102 [4.6 3.6 1.  0.2]\n",
      "103 [6.3 2.7 4.9 1.8]\n",
      "104 [6.7 3.3 5.7 2.1]\n",
      "105 [5.1 3.7 1.5 0.4]\n",
      "106 [5.9 3.  4.2 1.5]\n",
      "107 [5.4 3.  4.5 1.5]\n",
      "108 [5.2 4.1 1.5 0.1]\n",
      "109 [6.8 3.  5.5 2.1]\n",
      "110 [6.4 2.8 nan 2.1]\n",
      "111 [7.7 3.8 6.7 2.2]\n"
     ]
    }
   ],
   "source": [
    "for i, x1 in enumerate(X_train):\n",
    "    print(i,x1)"
   ]
  },
  {
   "cell_type": "code",
   "execution_count": 40,
   "id": "dec48867-2bad-4a3b-8225-85e0baa0afb0",
   "metadata": {
    "tags": []
   },
   "outputs": [
    {
     "name": "stdout",
     "output_type": "stream",
     "text": [
      "112\n"
     ]
    }
   ],
   "source": [
    "print(X_train.shape[0])"
   ]
  },
  {
   "cell_type": "code",
   "execution_count": 41,
   "id": "aff0d79b-06c7-4183-be20-da0a39d7cb68",
   "metadata": {
    "tags": []
   },
   "outputs": [
    {
     "name": "stdout",
     "output_type": "stream",
     "text": [
      "[[ 0.    13.93  14.38   0.57   2.46   1.173  0.52  12.1    1.07  12.94\n",
      "  10.8    4.01  11.53   0.827 11.81   4.01   0.4    1.8    0.6    3.13\n",
      "   3.213  0.547 13.46   0.18   1.853  2.587  4.72   1.06   1.387  1.31\n",
      "   0.987  0.84   0.21  12.21  16.86   1.933  0.68   1.8    0.827  0.92\n",
      "   1.787 12.39  12.58   1.58  12.12   4.32   0.6   11.34   9.17   1.533\n",
      "   0.72   1.7    2.09  14.92  11.66   9.87  12.94   2.64  10.16   0.44\n",
      "   4.12   1.99   0.653 12.26   1.187  1.747 10.42   0.7    1.3    0.71\n",
      "  10.787  9.89   1.44   4.85   0.34   1.31   0.82  11.54   2.25  15.39\n",
      "  12.29   1.16   1.09   2.027 11.9   13.25  12.9   11.41  10.16   1.49\n",
      "   1.52   3.96   1.533 13.11   1.06  11.61   0.8   11.77   1.56   0.827\n",
      "   0.1    2.05  16.21   0.78   2.19  11.34   0.27   0.53  12.38   2.05\n",
      "   1.027  8.25 ]]\n"
     ]
    }
   ],
   "source": [
    "print(distances[:1])"
   ]
  },
  {
   "cell_type": "code",
   "execution_count": 42,
   "id": "4b28bfca-efbd-48b9-97b7-822963ac2e68",
   "metadata": {
    "tags": []
   },
   "outputs": [
    {
     "data": {
      "image/png": "[encoded data removed]",
      "text/plain": [
       "<Figure size 640x480 with 1 Axes>"
      ]
     },
     "metadata": {},
     "output_type": "display_data"
    }
   ],
   "source": [
    "plot_imputation(X_train_knn, \"KNN imputation\")"
   ]
  },
  {
   "cell_type": "code",
   "execution_count": 43,
   "id": "594ca0b0-6064-4c77-a731-61c231bb05af",
   "metadata": {
    "tags": []
   },
   "outputs": [
    {
     "data": {
      "text/plain": [
       "0.918939393939394"
      ]
     },
     "execution_count": 43,
     "metadata": {},
     "output_type": "execute_result"
    }
   ],
   "source": [
    "# this is cheating because I'm not using a pipeline\n",
    "# we would need to write a transformer that does the imputation\n",
    "scores = cross_val_score(logreg, X_train_knn, y_train, cv=10)\n",
    "np.mean(scores)"
   ]
  },
  {
   "cell_type": "code",
   "execution_count": 44,
   "id": "b2ddfc5b-3c48-4ed4-abf5-af4444fefee6",
   "metadata": {
    "tags": []
   },
   "outputs": [],
   "source": [
    "asdf = np.arange(5)"
   ]
  },
  {
   "cell_type": "code",
   "execution_count": 45,
   "id": "737184ca-e1a3-4ece-a4da-ce9208d05c6d",
   "metadata": {
    "tags": []
   },
   "outputs": [
    {
     "name": "stdout",
     "output_type": "stream",
     "text": [
      "2\n"
     ]
    }
   ],
   "source": [
    "from sklearn.ensemble import RandomForestRegressor\n",
    "\n",
    "\n",
    "# this is just because I'm lazy and don't want to special-case the first iteration\n",
    "X_imputed = SimpleImputer().fit_transform(X_train)\n",
    "\n",
    "rf = RandomForestRegressor(n_estimators=100)\n",
    "\n",
    "for i in range(10):\n",
    "    last = X_imputed.copy()\n",
    "    for feature in range(X_train.shape[1]):\n",
    "        inds_not_f = np.arange(X_train.shape[1])\n",
    "        inds_not_f = inds_not_f[inds_not_f != feature]\n",
    "        f_missing = np.isnan(X_train[:, feature])\n",
    "        if not np.any(f_missing):\n",
    "            continue\n",
    "        rf.fit(X_imputed[~f_missing][:, inds_not_f], X_train[~f_missing, feature])\n",
    "\n",
    "        X_imputed[f_missing, feature] = rf.predict(X_imputed[f_missing][:, inds_not_f])\n",
    "\n",
    "    # this would make more sense if we scaled the data beforehand\n",
    "    if (np.linalg.norm(last - X_imputed)) < .5:\n",
    "        print(i)\n",
    "        break\n"
   ]
  },
  {
   "cell_type": "code",
   "execution_count": 32,
   "id": "3a4b02a4-e149-405e-bd15-613933f99d9a",
   "metadata": {},
   "outputs": [
    {
     "data": {
      "image/png": "[encoded data removed]",
      "text/plain": [
       "<Figure size 864x288 with 3 Axes>"
      ]
     },
     "metadata": {
      "needs_background": "light"
     },
     "output_type": "display_data"
    }
   ],
   "source": [
    "fig, axes = plt.subplots(1, 3, figsize=(12, 4))\n",
    "plot_imputation(X_mean_imp, \"Mean\", ax=axes[0])\n",
    "plot_imputation(X_train_knn, \"KNN\", ax=axes[1])\n",
    "plot_imputation(X_imputed, \"Random Forest imputation\", ax=axes[2])"
   ]
  },
  {
   "cell_type": "code",
   "execution_count": 33,
   "id": "b804288a-4405-401f-8321-b7b3e15d1043",
   "metadata": {},
   "outputs": [
    {
     "data": {
      "text/plain": [
       "0.9305555555555556"
      ]
     },
     "execution_count": 33,
     "metadata": {},
     "output_type": "execute_result"
    }
   ],
   "source": [
    "scores = cross_val_score(logreg, X_imputed, y_train, cv=10)\n",
    "np.mean(scores)"
   ]
  }
 ],
 "metadata": {
  "kernelspec": {
   "display_name": "Python 3 (ipykernel)",
   "language": "python",
   "name": "python3"
  },
  "language_info": {
   "codemirror_mode": {
    "name": "ipython",
    "version": 3
   },
   "file_extension": ".py",
   "mimetype": "text/x-python",
   "name": "python",
   "nbconvert_exporter": "python",
   "pygments_lexer": "ipython3",
   "version": "3.11.4"
  }
 },
 "nbformat": 4,
 "nbformat_minor": 5
}
