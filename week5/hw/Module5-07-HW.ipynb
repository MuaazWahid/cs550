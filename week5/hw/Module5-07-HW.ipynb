{
 "cells": [
  {
   "cell_type": "markdown",
   "id": "182e4d9a-f0d8-44cb-89a4-3a6d4d17bc28",
   "metadata": {},
   "source": [
    "## Module5-HW"
   ]
  },
  {
   "cell_type": "raw",
   "id": "deb36b97-9c12-48fc-84cd-3e9b1fa10363",
   "metadata": {},
   "source": []
  },
  {
   "cell_type": "markdown",
   "id": "5a445c09-0f8f-4159-94af-8a7f0927e06e",
   "metadata": {},
   "source": [
    "- Use the `train.csv` data to train and `test.csv` data to report your testing results.\n",
    "- Your target variable is `SalePrice`\n",
    "- Report summary information about your data:\n",
    "- - Report min, max, mean of your numerical features (use `describe` method)\n",
    "- - Create scatter (with respect to target variable) and box plots of your variables\n",
    "- - Check the correlations between your variables and the target variable\n",
    "\n",
    "- Split your data into train and test (Keep in mind that this test data will only be used for training purposes. you are going to report your test result on the `test.csv` file, not on this test data that you obtained from the training data)\n",
    "- Train your transformers on the train data set. You may choose to use pipeline and column transformer at this step. \n",
    "- - scaler\n",
    "- - polynomial transformer\n",
    "- - OneHot Encoder\n",
    "- - Simple Imputer\n",
    "- Train Linear regression. Ridge Regression, and Lasso Regression models\n",
    "- Optimize the `alpha` parameter for Ridge and Lasso Regressors\n",
    "- Visualize the coefficients of the three models as we did in class\n",
    "- Check which variables are eliminated with Lasso regression. Check the correlation values for these eliminated variables (you got the correlation values from an earlier step)"
   ]
  },
  {
   "cell_type": "code",
   "execution_count": null,
   "id": "1d301a20-6ed1-48e6-8dbb-2c428d4a806d",
   "metadata": {},
   "outputs": [],
   "source": []
  }
 ],
 "metadata": {
  "kernelspec": {
   "display_name": "Python 3 (ipykernel)",
   "language": "python",
   "name": "python3"
  },
  "language_info": {
   "codemirror_mode": {
    "name": "ipython",
    "version": 3
   },
   "file_extension": ".py",
   "mimetype": "text/x-python",
   "name": "python",
   "nbconvert_exporter": "python",
   "pygments_lexer": "ipython3",
   "version": "3.11.4"
  }
 },
 "nbformat": 4,
 "nbformat_minor": 5
}
