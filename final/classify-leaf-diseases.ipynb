{
 "cells": [
  {
   "cell_type": "markdown",
   "id": "0e2b11f6",
   "metadata": {},
   "source": [
    "# Dataset from Kaggle"
   ]
  },
  {
   "cell_type": "markdown",
   "id": "9f149986",
   "metadata": {},
   "source": [
    "### Step 1: Import necessary libraries"
   ]
  },
  {
   "cell_type": "code",
   "execution_count": null,
   "id": "5f71f395",
   "metadata": {},
   "outputs": [],
   "source": [
    "#import pandas as pd\n",
    "import numpy as np\n",
    "import os\n",
    "import cv2\n",
    "import time\n",
    "import matplotlib.pyplot as plt\n",
    "\n",
    "#import seaborn as sns\n",
    "from sklearn.model_selection import train_test_split\n",
    "from sklearn.metrics import classification_report, confusion_matrix, ConfusionMatrixDisplay\n",
    "from sklearn.preprocessing import LabelEncoder\n",
    "\n",
    "# Machine Learning models/algorithms\n",
    "from sklearn.svm import SVC\n",
    "from sklearn.ensemble import RandomForestClassifier\n",
    "from sklearn.tree import DecisionTreeClassifier\n",
    "from sklearn.model_selection import GridSearchCV\n",
    "from sklearn.linear_model import LogisticRegression\n",
    "\n",
    "import warnings\n",
    "warnings.filterwarnings(\"ignore\")"
   ]
  },
  {
   "cell_type": "code",
   "execution_count": 87,
   "id": "bafa33c0",
   "metadata": {},
   "outputs": [],
   "source": [
    "# # Test display image\n",
    "# img = cv2.imread(\"dataset/original/healthy/IMG (5).jpg\")\n",
    "\n",
    "# center_y = img.shape[0] // 2\n",
    "# center_x = img.shape[1] // 2\n",
    "# start_y = center_y - 1000\n",
    "# start_x = center_x - 1000\n",
    "# end_y = center_y + 1000\n",
    "# end_x = center_x + 1000\n",
    "# img = img[start_y:end_y, start_x:end_x]\n",
    "\n",
    "# cv2.imshow('original', img)\n",
    "# while True:\n",
    "#     k = cv2.waitKey(1) & 0xFF\n",
    "#     # when escape pressed or if window goes out of focus, close image window\n",
    "#     if k == 27 or \\\n",
    "#     cv2.getWindowProperty('original', cv2.WND_PROP_VISIBLE) < 1:\n",
    "#         break\n",
    "# cv2.destroyAllWindows()"
   ]
  },
  {
   "cell_type": "code",
   "execution_count": 88,
   "id": "16575cef",
   "metadata": {},
   "outputs": [],
   "source": [
    "# # Test display image\n",
    "# img = cv2.imread(\"dataset/processed-images/healthy/IMG (5).jpg\")\n",
    "\n",
    "# center_y = img.shape[0] // 2\n",
    "# center_x = img.shape[1] // 2\n",
    "# start_y = center_y - 1000\n",
    "# start_x = center_x - 1000\n",
    "# end_y = center_y + 1000\n",
    "# end_x = center_x + 1000\n",
    "# img = img[start_y:end_y, start_x:end_x]\n",
    "\n",
    "# cv2.imshow('original', img)\n",
    "# while True:\n",
    "#     k = cv2.waitKey(1) & 0xFF\n",
    "#     # when escape pressed or if window goes out of focus, close image window\n",
    "#     if k == 27 or \\\n",
    "#     cv2.getWindowProperty('original', cv2.WND_PROP_VISIBLE) < 1:\n",
    "#         break\n",
    "# cv2.destroyAllWindows()"
   ]
  },
  {
   "cell_type": "markdown",
   "id": "e628dbb4",
   "metadata": {},
   "source": [
    "### Step 2: Preprocess the data\n",
    "There will be 3 types of processed data:\n",
    "- grayscaled\n",
    "- colored\n",
    "- masked or selectively cropped (the leaf is preserved, backgrounds become white)\n",
    "\n",
    "Here is what we need to do for grayscale:\n",
    "- crop image\n",
    "- grayscale image\n",
    "- convert the image into a 1 dimensional `numpy` array\n",
    "- label the data so we can identify individual images within the array"
   ]
  },
  {
   "cell_type": "code",
   "execution_count": 89,
   "id": "8292b989",
   "metadata": {},
   "outputs": [],
   "source": [
    "def crop_image(file_path: str):\n",
    "    \"\"\"Returns an OpenCV object image\\n\n",
    "    Given a file path, this function preserves the color of the image,\\n\n",
    "    crops it to 2000x2000 pixels, and finally converts it into a 1-dimensional array\n",
    "    \"\"\"\n",
    "    # convert the image into a 3 dimensional numpy array\n",
    "    # select only a portion of the numpy array to represent an 2000x2000 pixels cropped image\n",
    "    # we can find center of image by halving the image dimensions\n",
    "    # calculate crop boundaries (1000 pixels in each direction from center)\n",
    "    \n",
    "    # we can try increasing size of image once we get sufficient accuracy\n",
    "    img = cv2.imread(file_path)\n",
    "    center_y = img.shape[0] // 2\n",
    "    center_x = img.shape[1] // 2\n",
    "    start_y = center_y - 1000\n",
    "    start_x = center_x - 1000\n",
    "    end_y = center_y + 1000\n",
    "    end_x = center_x + 1000\n",
    "    return img[start_y:end_y, start_x:end_x]"
   ]
  },
  {
   "cell_type": "code",
   "execution_count": 90,
   "id": "fa97f8be",
   "metadata": {},
   "outputs": [],
   "source": [
    "def grayscale_image(file_path: str):\n",
    "    \"\"\"Returns a 1-dimensional numpy array that represents a grayscale image\\n\n",
    "    Given a file path, this function turns the provided image file grayscale\\n\n",
    "    and converts it into a 1-dimensional array\n",
    "    \"\"\"\n",
    "    # convert the image into a 3 dimensional numpy array,\n",
    "    # then make the image grayscale, reducing it to a 2d numpy array\n",
    "    # flatten 2d array into 1d\n",
    "    return cv2.cvtColor(crop_image(file_path), cv2.COLOR_BGR2GRAY).ravel()"
   ]
  },
  {
   "cell_type": "code",
   "execution_count": null,
   "id": "dde224cd",
   "metadata": {},
   "outputs": [],
   "source": [
    "def preprocess_images(imgs_per_category: int):\n",
    "    \"\"\"Crop all categories of images of cauliflower leaf, then return as array\"\"\"\n",
    "    X = [] # features\n",
    "    y = [] # labels\n",
    "    start_time = time.time()\n",
    "    # preprocess images from each disease category\n",
    "    # then add the preprocessed images to the dataset while labelling them\n",
    "    for category in ['Healthy', 'Black-Rot', 'Insect-Hole']:\n",
    "        for file_name in os.listdir(f\"dataset/original/{category}/\")[:imgs_per_category]:\n",
    "            # crop the image and reduce dimensionality of array\n",
    "            X.append(crop_image(f\"dataset/original/{category}/{file_name}\").ravel())\n",
    "            y.append(category) # label corresponding data\n",
    "\n",
    "    # convert to numpy arrays and return training and testing data\n",
    "    X = np.array(X)\n",
    "    y = LabelEncoder().fit_transform(np.array(y))\n",
    "\n",
    "    end_time = time.time()\n",
    "    print(f\"Preprocessed {3*imgs_per_category} images in {round(end_time - start_time, 2)}s\")\n",
    "    return train_test_split(X, y, test_size=0.2, random_state=42)"
   ]
  },
  {
   "cell_type": "code",
   "execution_count": null,
   "id": "f24f0334",
   "metadata": {},
   "outputs": [],
   "source": [
    "def preprocess_grayscale_images(imgs_per_category: int):\n",
    "    \"\"\"Crop and grayscale all categories of images of cauliflower leaf, then return as array\"\"\"\n",
    "    X = [] # features\n",
    "    y = [] # labels\n",
    "    start_time = time.time()\n",
    "    # preprocess images from each disease category\n",
    "    # then add the preprocessed images to the dataset while labelling them\n",
    "    for category in ['Healthy', 'Black-Rot', 'Insect-Hole']:\n",
    "        for file_name in os.listdir(f\"dataset/original/{category}/\")[:imgs_per_category]:\n",
    "            X.append(grayscale_image(f\"dataset/original/{category}/{file_name}\"))\n",
    "            y.append(category) # label corresponding data\n",
    "\n",
    "    # convert to numpy arrays and return training and testing data\n",
    "    X = np.array(X)\n",
    "    y = LabelEncoder().fit_transform(np.array(y))\n",
    "\n",
    "    end_time = time.time()\n",
    "    print(f\"Preprocessed with grayscale {3*imgs_per_category} images \" +\n",
    "          f\"in {round(end_time - start_time, 2)}s\")\n",
    "    return train_test_split(X, y, test_size=0.2, random_state=42)"
   ]
  },
  {
   "cell_type": "code",
   "execution_count": null,
   "id": "f457c1d7",
   "metadata": {},
   "outputs": [],
   "source": [
    "def preprocess_grayscale_subject_images(imgs_per_category: int):\n",
    "    X = [] # features\n",
    "    y = [] # labels\n",
    "    start_time = time.time()\n",
    "    # preprocess images from each disease category\n",
    "    # then add the preprocessed images to the dataset while labelling them\n",
    "    for category in ['Healthy', 'Black-Rot', 'Insect-Hole']:\n",
    "        for file_name in os.listdir(f\"dataset/processed-images/{category}/\")[:imgs_per_category]:\n",
    "            X.append(grayscale_image(f\"dataset/processed-images/{category}/{file_name}\"))\n",
    "            y.append(category) # label corresponding data\n",
    "\n",
    "    # convert to numpy arrays and return training and testing data\n",
    "    X = np.array(X)\n",
    "    y = LabelEncoder().fit_transform(np.array(y))\n",
    "\n",
    "    end_time = time.time()\n",
    "    print(f\"Preprocessed masked subject with grayscale {3*imgs_per_category} images \" +\n",
    "          f\"in {round(end_time - start_time, 2)}s\")\n",
    "    return train_test_split(X, y, test_size=0.2, random_state=42)"
   ]
  },
  {
   "cell_type": "code",
   "execution_count": null,
   "id": "1029cb19",
   "metadata": {},
   "outputs": [],
   "source": [
    "def preprocess_highlighted_subject_images(imgs_per_category: int):\n",
    "    X = [] # features\n",
    "    y = [] # labels\n",
    "    start_time = time.time()\n",
    "    # preprocess images from each disease category\n",
    "    # then add the preprocessed images to the dataset while labelling them\n",
    "    for category in ['Healthy', 'Black-Rot', 'Insect-Hole']:\n",
    "        for file_name in os.listdir(f\"dataset/processed-images/{category}/\")[:imgs_per_category]:\n",
    "            # crop the image and reduce dimensionality of array\n",
    "            X.append(crop_image(f\"dataset/processed-images/{category}/{file_name}\").ravel())\n",
    "            y.append(category) # label corresponding data\n",
    "\n",
    "    # convert to numpy arrays and return training and testing data\n",
    "    X = np.array(X)\n",
    "    y = LabelEncoder().fit_transform(np.array(y))\n",
    "\n",
    "    end_time = time.time()\n",
    "    print(f\"Preprocessed masked subject {3*imgs_per_category} images \" +\n",
    "          f\"in {round(end_time - start_time, 2)}s\")\n",
    "    return train_test_split(X, y, test_size=0.2, random_state=42)"
   ]
  },
  {
   "cell_type": "markdown",
   "id": "fdd07347",
   "metadata": {},
   "source": [
    "### Step 3: Model Selection\n",
    "- Train model on preprocessed grayscale images\n",
    "- Run at least 3 machine learning algorithms on the dataset\n",
    "- Run `sklearn.classification_report()` to evaluate model accuracy, precision, recall, f1-score, and support"
   ]
  },
  {
   "cell_type": "code",
   "execution_count": 95,
   "id": "6532765a",
   "metadata": {},
   "outputs": [
    {
     "name": "stdout",
     "output_type": "stream",
     "text": [
      "Preprocessed with grayscale 210 images in 13.58s\n",
      "Linear SVC Model c=1, 181.83s to train\n",
      "              precision    recall  f1-score   support\n",
      "\n",
      "           0       0.53      0.57      0.55        14\n",
      "           1       0.11      0.09      0.10        11\n",
      "           2       0.61      0.65      0.63        17\n",
      "\n",
      "    accuracy                           0.48        42\n",
      "   macro avg       0.42      0.44      0.43        42\n",
      "weighted avg       0.45      0.48      0.46        42\n",
      "\n"
     ]
    }
   ],
   "source": [
    "svc_model_linear = SVC(kernel='linear', C=1.0, random_state=42)\n",
    "preprocessed_img_cnt = 70\n",
    "X_train, X_test, y_train, y_test = preprocess_grayscale_images(preprocessed_img_cnt)\n",
    "\n",
    "start_time = time.time()\n",
    "svc_model_linear.fit(X_train, y_train)\n",
    "end_time = time.time()\n",
    "print(f\"Linear SVC Model c=1, {round(end_time - start_time, 2)}s to train\")\n",
    "print(classification_report(y_test, svc_model_linear.predict(X_test)))"
   ]
  },
  {
   "cell_type": "code",
   "execution_count": 96,
   "id": "26da1202",
   "metadata": {},
   "outputs": [
    {
     "name": "stdout",
     "output_type": "stream",
     "text": [
      "Preprocessed with grayscale 210 images in 13.6s\n",
      "SVC rbf model kernel, 201.4s to train\n",
      "              precision    recall  f1-score   support\n",
      "\n",
      "           0       0.41      0.50      0.45        14\n",
      "           1       0.30      0.27      0.29        11\n",
      "           2       0.53      0.47      0.50        17\n",
      "\n",
      "    accuracy                           0.43        42\n",
      "   macro avg       0.42      0.41      0.41        42\n",
      "weighted avg       0.43      0.43      0.43        42\n",
      "\n"
     ]
    }
   ],
   "source": [
    "svc_model = SVC(kernel='rbf', random_state=42)\n",
    "# preprocessed_img_cnt = 100\n",
    "X_train, X_test, y_train, y_test = preprocess_grayscale_images(preprocessed_img_cnt)\n",
    "\n",
    "start_time = time.time()\n",
    "svc_model.fit(X_train, y_train)\n",
    "end_time = time.time()\n",
    "print(f\"SVC rbf model kernel, {round(end_time - start_time, 2)}s to train\")\n",
    "print(classification_report(y_test, svc_model.predict(X_test)))"
   ]
  },
  {
   "cell_type": "code",
   "execution_count": 97,
   "id": "81243efc",
   "metadata": {},
   "outputs": [
    {
     "name": "stdout",
     "output_type": "stream",
     "text": [
      "Preprocessed with grayscale 210 images in 13.35s\n",
      "DecisionTreeClassifier Model max_depth=3, 196.12s to train\n",
      "              precision    recall  f1-score   support\n",
      "\n",
      "           0       0.41      0.50      0.45        14\n",
      "           1       0.30      0.27      0.29        11\n",
      "           2       0.53      0.47      0.50        17\n",
      "\n",
      "    accuracy                           0.43        42\n",
      "   macro avg       0.42      0.41      0.41        42\n",
      "weighted avg       0.43      0.43      0.43        42\n",
      "\n"
     ]
    }
   ],
   "source": [
    "dct_model = DecisionTreeClassifier(max_depth=3, random_state=42)\n",
    "# preprocessed_img_cnt = 100\n",
    "X_train, X_test, y_train, y_test = preprocess_grayscale_images(preprocessed_img_cnt)\n",
    "\n",
    "start_time = time.time()\n",
    "dct_model.fit(X_train, y_train)\n",
    "end_time = time.time()\n",
    "print(f\"DecisionTreeClassifier Model max_depth=3, {round(end_time - start_time, 2)}s to train\")\n",
    "print(classification_report(y_test, svc_model.predict(X_test)))"
   ]
  },
  {
   "cell_type": "code",
   "execution_count": null,
   "id": "e783831c",
   "metadata": {},
   "outputs": [
    {
     "name": "stdout",
     "output_type": "stream",
     "text": [
      "Preprocessed with grayscale 1500 images in 103.62s\n"
     ]
    }
   ],
   "source": [
    "rf_model = RandomForestClassifier(n_estimators=100, random_state=42)\n",
    "preprocessed_img_cnt = 100\n",
    "X_train, X_test, y_train, y_test = preprocess_grayscale_images(preprocessed_img_cnt)\n",
    "\n",
    "start_time = time.time()\n",
    "rf_model.fit(X_train, y_train)\n",
    "end_time = time.time()\n",
    "print(f\"RandomForestClassifier Model n_estimators=100, {round(end_time - start_time, 2)}s to train\")\n",
    "print(classification_report(y_test, rf_model.predict(X_test)))"
   ]
  },
  {
   "cell_type": "code",
   "execution_count": 99,
   "id": "417cb3b6",
   "metadata": {},
   "outputs": [
    {
     "name": "stdout",
     "output_type": "stream",
     "text": [
      "Preprocessed masked subject with grayscale 150 images in 5.15s\n",
      "RandomForestClassifier Model n_estimators=100, 8.27s to train\n",
      "              precision    recall  f1-score   support\n",
      "\n",
      "           0       0.17      0.33      0.22         9\n",
      "           1       0.12      0.10      0.11        10\n",
      "           2       0.00      0.00      0.00        11\n",
      "\n",
      "    accuracy                           0.13        30\n",
      "   macro avg       0.10      0.14      0.11        30\n",
      "weighted avg       0.09      0.13      0.10        30\n",
      "\n"
     ]
    }
   ],
   "source": [
    "leaf_only_rf_model = RandomForestClassifier(n_estimators=100, random_state=42)\n",
    "# preprocessed_img_cnt = 50\n",
    "X_train, X_test, y_train, y_test = preprocess_grayscale_subject_images(preprocessed_img_cnt)\n",
    "\n",
    "start_time = time.time()\n",
    "leaf_only_rf_model.fit(X_train, y_train)\n",
    "end_time = time.time()\n",
    "print(f\"RandomForestClassifier Model n_estimators=100, {round(end_time - start_time, 2)}s to train\")\n",
    "print(classification_report(y_test, rf_model.predict(X_test)))"
   ]
  },
  {
   "cell_type": "code",
   "execution_count": null,
   "id": "b2286e65",
   "metadata": {},
   "outputs": [],
   "source": [
    "parameters = {'kernel':('linear', 'rbf'), 'C':[1, 10]}\n",
    "clf = GridSearchCV(SVC(random_state=42), parameters)\n",
    "X_train, X_test, y_train, y_test = preprocess_grayscale_subject_images(preprocessed_img_cnt)\n",
    "start_time = time.time()\n",
    "clf.fit(X_train, y_train)\n",
    "end_time = time.time()\n",
    "print(f\"GridSearchCV linear and RBF kernel, {round(end_time - start_time, 2)}s to train\")\n",
    "print(classification_report(y_test, clf.predict(X_test)))"
   ]
  },
  {
   "cell_type": "code",
   "execution_count": null,
   "id": "0dc9f8f5",
   "metadata": {},
   "outputs": [],
   "source": [
    "lr_model = LogisticRegression(random_state=42)\n",
    "X_train, X_test, y_train, y_test = preprocess_grayscale_subject_images(preprocessed_img_cnt)\n",
    "start_time = time.time()\n",
    "lr_model.fit(X_train, y_train)\n",
    "end_time = time.time()\n",
    "print(f\"Logistic Regression, {round(end_time - start_time, 2)}s to train\")\n",
    "print(classification_report(y_test, lr_model.predict(X_test)))"
   ]
  },
  {
   "cell_type": "code",
   "execution_count": 100,
   "id": "a32bda63",
   "metadata": {},
   "outputs": [
    {
     "data": {
      "image/png": "[encoded data removed]",
      "text/plain": [
       "<Figure size 640x480 with 2 Axes>"
      ]
     },
     "metadata": {},
     "output_type": "display_data"
    }
   ],
   "source": [
    "cm = confusion_matrix(y_test, rf_model.predict(X_test), labels=rf_model.classes_)\n",
    "ConfusionMatrixDisplay(confusion_matrix=cm, display_labels=rf_model.classes_).plot(cmap='Blues');"
   ]
  },
  {
   "cell_type": "code",
   "execution_count": 101,
   "id": "766e9768",
   "metadata": {},
   "outputs": [],
   "source": [
    "# importance = rf_model.feature_importances_\n",
    "# plt.bar(range(len(importance)), importance)\n",
    "# plt.show()"
   ]
  },
  {
   "cell_type": "code",
   "execution_count": 102,
   "id": "70d92f93",
   "metadata": {},
   "outputs": [],
   "source": [
    "# pca_scaled = make_pipeline(StandardScaler(), PCA(n_components=2))\n",
    "# X_pca_scaled = pca_scaled.fit_transform(X)\n",
    "# plt.scatter(X_pca_scaled[:, 0], X_pca_scaled[:, 1], c=y, alpha=0.9)\n",
    "# plt.xlabel('first principal component')\n",
    "# plt.ylabel('second principal component');"
   ]
  },
  {
   "cell_type": "markdown",
   "id": "3ed10e95",
   "metadata": {},
   "source": [
    "Recommended concepts to implement:\n",
    "\n",
    "random forest, logistic regression, principal component analysis,\n",
    "\n",
    "XGboost (mandatory), dbscan, and gradient descent.\n",
    "\n",
    "Further concepts (either in code or presentation):\n",
    "\n",
    "class distribution, dataset size, source crediblity, any challenges (ex: data imbalance/noise)\n",
    "\n",
    "ROC/AUC analysis, visualization of errors, or any misclassified examples\n",
    "\n",
    "discuss which diseases are harder to classify, dataset quality, and/or model limitations (ex:overfitting for DecisionTree)"
   ]
  }
 ],
 "metadata": {
  "kernelspec": {
   "display_name": "Python 3",
   "language": "python",
   "name": "python3"
  },
  "language_info": {
   "codemirror_mode": {
    "name": "ipython",
    "version": 3
   },
   "file_extension": ".py",
   "mimetype": "text/x-python",
   "name": "python",
   "nbconvert_exporter": "python",
   "pygments_lexer": "ipython3",
   "version": "3.undefined.undefined"
  }
 },
 "nbformat": 4,
 "nbformat_minor": 5
}
