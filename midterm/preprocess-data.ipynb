{
 "cells": [
  {
   "cell_type": "markdown",
   "metadata": {},
   "source": [
    "# Dataset is a folder called 'poultry_diseases' which has 4 folders:\n",
    "- cocci\n",
    "- healthy\n",
    "- ncd\n",
    "- salmo\n",
    "\n",
    "each folder contains jpg images of that type of disease"
   ]
  },
  {
   "cell_type": "markdown",
   "metadata": {
    "vscode": {
     "languageId": "plaintext"
    }
   },
   "source": [
    "### Step 1: First figure out how many images per category\n",
    "- How many images are in each directory\n",
    "- Dimensions of the images\n",
    "- in RGB images there are three color channels and three dimensions\n",
    "- grayscale images are single-dimensional"
   ]
  },
  {
   "cell_type": "code",
   "execution_count": 1,
   "metadata": {},
   "outputs": [],
   "source": [
    "import numpy as np\n",
    "import cv2\n",
    "import os\n",
    "import warnings\n",
    "warnings.filterwarnings(\"ignore\")\n",
    "\n",
    "#import time\n",
    "#from PIL import Image"
   ]
  },
  {
   "cell_type": "code",
   "execution_count": 2,
   "metadata": {},
   "outputs": [
    {
     "data": {
      "text/plain": [
       "['ncd.270.jpg', 'ncd.264.jpg', 'ncd.81.jpg', 'ncd.258.jpg']"
      ]
     },
     "execution_count": 2,
     "metadata": {},
     "output_type": "execute_result"
    }
   ],
   "source": [
    "os.listdir(\"poultry_diseases/ncd/\")[1:5] # get a sample of the data image file names"
   ]
  },
  {
   "cell_type": "code",
   "execution_count": 3,
   "metadata": {},
   "outputs": [
    {
     "name": "stdout",
     "output_type": "stream",
     "text": [
      "<class 'numpy.ndarray'>\n",
      "1152\n",
      "(1152, 2048, 3)\n",
      "\n",
      "<class 'numpy.ndarray'> 2048 [[ 65  77  79]\n",
      " [ 64  76  78]\n",
      " [ 64  77  79]\n",
      " ...\n",
      " [177 176 172]\n",
      " [178 176 175]\n",
      " [178 176 175]]\n",
      "<class 'numpy.ndarray'> 3 [65 77 79]\n",
      "<class 'numpy.uint8'> 3 77\n"
     ]
    }
   ],
   "source": [
    "img = cv2.imread(\"poultry_diseases/ncd/ncd.0.jpg\")\n",
    "print(type(img))\n",
    "print(len(img))\n",
    "print(img.shape, end='\\n\\n')\n",
    "print(type(img[0]), len(img[0]), img[0])\n",
    "print(type(img[0][0]), len(img[0][0]), img[0][0])\n",
    "print(type(img[0][0][0]), len(img[0][0]), img[0][0][1])"
   ]
  },
  {
   "cell_type": "code",
   "execution_count": 4,
   "metadata": {},
   "outputs": [],
   "source": [
    "def generate_summary(disease_type):\n",
    "    \"\"\"Prints a summary of all images of a certain disease type\\n\n",
    "    the dimension of the images\n",
    "    \"\"\"\n",
    "    shapes = []\n",
    "    for file_name in os.listdir(f\"poultry_diseases/{disease_type}/\"):\n",
    "        img = cv2.imread(f\"poultry_diseases/{disease_type}/{file_name}\")\n",
    "        shapes.append(img.shape)\n",
    "    shapes = np.array(shapes)\n",
    "\n",
    "    output = f\"image count: {len(shapes)}\\n\"\\\n",
    "    f\"mean vertical length: {np.mean(shapes[:, 0])}\\n\"\\\n",
    "    f\"mean horizontal length: {np.mean(shapes[:, 1])}\\n\"\\\n",
    "    f\"median vertical length: {np.median(shapes[:, 0])}\\n\"\\\n",
    "    f\"median horizontal length: {np.median(shapes[:, 1])}\\n\"\\\n",
    "    f\"Unique shapes in dataset:\\n\"\\\n",
    "    f\"{np.unique(shapes, axis=0)}\"\n",
    "    \n",
    "    return output"
   ]
  },
  {
   "cell_type": "code",
   "execution_count": 5,
   "metadata": {},
   "outputs": [
    {
     "name": "stdout",
     "output_type": "stream",
     "text": [
      "\n",
      "Summary of all Newcastle disease images:\n",
      "image count: 376\n",
      "mean vertical length: 1706.723404255319\n",
      "mean horizontal length: 2113.7021276595747\n",
      "median vertical length: 1152.0\n",
      "median horizontal length: 2048.0\n",
      "Unique shapes in dataset:\n",
      "[[1152 2048    3]\n",
      " [1440 3200    3]\n",
      " [3200 1440    3]]\n",
      "\n",
      "Summary of all healthy poultry images:\n",
      "image count: 2057\n",
      "mean vertical length: 1565.1142440447254\n",
      "mean horizontal length: 2122.819640252795\n",
      "median vertical length: 1152.0\n",
      "median horizontal length: 2048.0\n",
      "Unique shapes in dataset:\n",
      "[[1152 2048    3]\n",
      " [2048 1152    3]\n",
      " [3120 4160    3]\n",
      " [4160 3120    3]]\n"
     ]
    }
   ],
   "source": [
    "print('\\nSummary of all Newcastle disease images:')\n",
    "print(generate_summary('ncd'))\n",
    "\n",
    "print('\\nSummary of all healthy poultry images:')\n",
    "print(generate_summary('healthy'))"
   ]
  },
  {
   "cell_type": "code",
   "execution_count": 6,
   "metadata": {},
   "outputs": [
    {
     "name": "stdout",
     "output_type": "stream",
     "text": [
      "\n",
      "Summary of all coccidiosis disease images:\n",
      "image count: 2103\n",
      "mean vertical length: 2726.870185449358\n",
      "mean horizontal length: 2028.0589633856396\n",
      "median vertical length: 3200.0\n",
      "median horizontal length: 1440.0\n",
      "Unique shapes in dataset:\n",
      "[[1440 3200    3]\n",
      " [2448 3264    3]\n",
      " [3200 1440    3]\n",
      " [3264 2448    3]\n",
      " [4160 3120    3]]\n",
      "\n",
      "Summary of all salmonella disease images:\n",
      "image count: 2276\n",
      "mean vertical length: 2216.2390158172234\n",
      "mean horizontal length: 2102.699472759227\n",
      "median vertical length: 2048.0\n",
      "median horizontal length: 2048.0\n",
      "Unique shapes in dataset:\n",
      "[[1152 2048    3]\n",
      " [1440 3200    3]\n",
      " [2048 1152    3]\n",
      " [2448 3264    3]\n",
      " [3200 1440    3]\n",
      " [3264 2448    3]\n",
      " [4160 3120    3]]\n"
     ]
    }
   ],
   "source": [
    "print('\\nSummary of all coccidiosis disease images:')\n",
    "print(generate_summary('cocci'))\n",
    "\n",
    "print('\\nSummary of all salmonella disease images:')\n",
    "print(generate_summary('salmo'))"
   ]
  },
  {
   "cell_type": "markdown",
   "metadata": {},
   "source": [
    "### Step 2: Crop the image\n",
    "- We saw that the lowest averages and medians for image dimensions was above 1000\n",
    "- This means most images are more than 1000 pixels in width and height\n",
    "- So we felt a square crop of 800x800 pixels was a good crop size\n",
    "- this also reduces the dimensionality of the array so we can flatten it into a 1d array at the end"
   ]
  },
  {
   "cell_type": "code",
   "execution_count": 7,
   "metadata": {},
   "outputs": [
    {
     "name": "stdout",
     "output_type": "stream",
     "text": [
      "Original image vertical length: 1152\n",
      "Horizontal image length: 2048\n",
      "Original image dimensions: (1152, 2048, 3)\n",
      "Cropped image dimensions: (800, 800, 3)\n"
     ]
    },
    {
     "name": "stderr",
     "output_type": "stream",
     "text": [
      "2025-03-28 09:55:29.098 Python[96057:6902270] +[IMKClient subclass]: chose IMKClient_Modern\n",
      "2025-03-28 09:55:29.098 Python[96057:6902270] +[IMKInputSession subclass]: chose IMKInputSession_Modern\n"
     ]
    }
   ],
   "source": [
    "\"\"\"Attempt central 800x800 pixel square crop for test image\"\"\"\n",
    "img = cv2.imread(\"poultry_diseases/ncd/ncd.0.jpg\")\n",
    "# Calculate center position\n",
    "center_y = img.shape[0] // 2\n",
    "center_x = img.shape[1] // 2\n",
    "# Calculate crop boundaries (400 pixels in each direction from center)\n",
    "start_y = center_y - 400\n",
    "start_x = center_x - 400\n",
    "end_y = center_y + 400\n",
    "end_x = center_x + 400\n",
    "cropped_img = img[start_y:end_y, start_x:end_x]\n",
    "\n",
    "print(\"Original image vertical length:\", img.shape[0])\n",
    "print(\"Horizontal image length:\", img.shape[1])\n",
    "print(\"Original image dimensions:\", img.shape)\n",
    "print(\"Cropped image dimensions:\", cropped_img.shape)\n",
    "\n",
    "cv2.imshow('original', img)\n",
    "cv2.imshow('cropped', cropped_img)\n",
    "while True:\n",
    "    k = cv2.waitKey(1) & 0xFF\n",
    "    # when escape pressed or if window goes out of focus, close image window\n",
    "    if k == 27 or \\\n",
    "    cv2.getWindowProperty('original', cv2.WND_PROP_VISIBLE) < 1 or \\\n",
    "    cv2.getWindowProperty('cropped', cv2.WND_PROP_VISIBLE) < 1:\n",
    "        break\n",
    "cv2.destroyAllWindows()"
   ]
  },
  {
   "cell_type": "markdown",
   "metadata": {},
   "source": [
    "### Step 3: Grayscale image\n",
    "- Read in image\n",
    "- Apply grayscale using OpenCV"
   ]
  },
  {
   "cell_type": "code",
   "execution_count": null,
   "metadata": {},
   "outputs": [],
   "source": [
    "gray_img = cv2.cvtColor(img, cv2.COLOR_BGR2GRAY)\n",
    "cv2.imshow('original', img)\n",
    "cv2.imshow('grayscale', gray_img)\n",
    "while True:\n",
    "    k = cv2.waitKey(1) & 0xFF\n",
    "    # when escape pressed or if window goes out of focus, close image window\n",
    "    if k == 27 or \\\n",
    "    cv2.getWindowProperty('original', cv2.WND_PROP_VISIBLE) < 1 or \\\n",
    "    cv2.getWindowProperty('grayscale', cv2.WND_PROP_VISIBLE) < 1:\n",
    "        break\n",
    "cv2.destroyAllWindows()"
   ]
  },
  {
   "cell_type": "markdown",
   "metadata": {},
   "source": [
    "### Step 4: Flatten image into a 1 dimensional array"
   ]
  },
  {
   "cell_type": "code",
   "execution_count": null,
   "metadata": {},
   "outputs": [
    {
     "name": "stdout",
     "output_type": "stream",
     "text": [
      "(640000,)\n"
     ]
    },
    {
     "ename": "",
     "evalue": "",
     "output_type": "error",
     "traceback": [
      "\u001b[1;31mThe Kernel crashed while executing code in the current cell or a previous cell. \n",
      "\u001b[1;31mPlease review the code in the cell(s) to identify a possible cause of the failure. \n",
      "\u001b[1;31mClick <a href='https://aka.ms/vscodeJupyterKernelCrash'>here</a> for more info. \n",
      "\u001b[1;31mView Jupyter <a href='command:jupyter.viewOutput'>log</a> for further details."
     ]
    }
   ],
   "source": [
    "# grayscale the cropped img, rather than the original\n",
    "gray_img = cv2.cvtColor(cropped_img, cv2.COLOR_BGR2GRAY)\n",
    "# we can use ravel() or flatten()\n",
    "# ravel() creates view, flatten() creates copy\n",
    "preprocessed_img = gray_img.ravel()\n",
    "# we can see the preprocessed image is 1 dimensional array\n",
    "print(preprocessed_img.shape)"
   ]
  }
 ],
 "metadata": {
  "kernelspec": {
   "display_name": "Python 3",
   "language": "python",
   "name": "python3"
  },
  "language_info": {
   "codemirror_mode": {
    "name": "ipython",
    "version": 3
   },
   "file_extension": ".py",
   "mimetype": "text/x-python",
   "name": "python",
   "nbconvert_exporter": "python",
   "pygments_lexer": "ipython3",
   "version": "3.9.7"
  }
 },
 "nbformat": 4,
 "nbformat_minor": 2
}
